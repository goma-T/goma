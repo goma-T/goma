{
 "cells": [
  {
   "cell_type": "code",
   "execution_count": 1,
   "id": "f3251e95",
   "metadata": {},
   "outputs": [
    {
     "name": "stdout",
     "output_type": "stream",
     "text": [
      "Requirement already up-to-date: selenium in /usr/local/lib/python3.7/site-packages (3.141.0)\r\n",
      "Requirement already satisfied, skipping upgrade: urllib3 in /usr/local/lib/python3.7/site-packages (from selenium) (1.25.9)\r\n"
     ]
    }
   ],
   "source": [
    "!pip3 install -U selenium"
   ]
  },
  {
   "cell_type": "code",
   "execution_count": 2,
   "id": "277f0e61",
   "metadata": {},
   "outputs": [
    {
     "name": "stdout",
     "output_type": "stream",
     "text": [
      "Requirement already satisfied: webdriver_manager in /usr/local/lib/python3.7/site-packages (3.4.2)\n",
      "Requirement already satisfied: configparser in /usr/local/lib/python3.7/site-packages (from webdriver_manager) (5.0.2)\n",
      "Requirement already satisfied: crayons in /usr/local/lib/python3.7/site-packages (from webdriver_manager) (0.4.0)\n",
      "Requirement already satisfied: requests in /usr/local/lib/python3.7/site-packages (from webdriver_manager) (2.23.0)\n",
      "Requirement already satisfied: colorama in /usr/local/lib/python3.7/site-packages (from crayons->webdriver_manager) (0.4.4)\n",
      "Requirement already satisfied: chardet<4,>=3.0.2 in /usr/local/lib/python3.7/site-packages (from requests->webdriver_manager) (3.0.4)\n",
      "Requirement already satisfied: urllib3!=1.25.0,!=1.25.1,<1.26,>=1.21.1 in /usr/local/lib/python3.7/site-packages (from requests->webdriver_manager) (1.25.9)\n",
      "Requirement already satisfied: idna<3,>=2.5 in /usr/local/lib/python3.7/site-packages (from requests->webdriver_manager) (2.9)\n",
      "Requirement already satisfied: certifi>=2017.4.17 in /usr/local/lib/python3.7/site-packages (from requests->webdriver_manager) (2020.4.5.1)\n"
     ]
    }
   ],
   "source": [
    "#今使用しているブラウザに最適なドライバをインストールする\n",
    "!pip3 install webdriver_manager"
   ]
  },
  {
   "cell_type": "code",
   "execution_count": 3,
   "id": "c8bcec0e",
   "metadata": {},
   "outputs": [],
   "source": [
    "from selenium import webdriver\n",
    "from webdriver_manager.chrome import ChromeDriverManager"
   ]
  },
  {
   "cell_type": "code",
   "execution_count": 4,
   "id": "0e1c456c",
   "metadata": {},
   "outputs": [
    {
     "name": "stderr",
     "output_type": "stream",
     "text": [
      "\n",
      "\n",
      "====== WebDriver manager ======\n",
      "Current google-chrome version is 91.0.4472\n",
      "Get LATEST driver version for 91.0.4472\n",
      "Driver [/Users/matsuuratsubasa/.wdm/drivers/chromedriver/mac64/91.0.4472.101/chromedriver] found in cache\n"
     ]
    }
   ],
   "source": [
    "browser = webdriver.Chrome(ChromeDriverManager().install())"
   ]
  },
  {
   "cell_type": "code",
   "execution_count": 7,
   "id": "20f4f646",
   "metadata": {},
   "outputs": [],
   "source": [
    "url =' https://scraping-for-beginner.herokuapp.com/login_page' \n",
    "browser.get(url)"
   ]
  },
  {
   "cell_type": "code",
   "execution_count": 14,
   "id": "0b430e98",
   "metadata": {},
   "outputs": [],
   "source": [
    "elem_username = browser.find_element_by_id('username')\n",
    "elem_username.send_keys('imanishi')"
   ]
  },
  {
   "cell_type": "code",
   "execution_count": 15,
   "id": "a415eb00",
   "metadata": {},
   "outputs": [],
   "source": [
    "elem_password = browser.find_element_by_id('password')\n",
    "elem_password.send_keys('kohei')"
   ]
  },
  {
   "cell_type": "code",
   "execution_count": 16,
   "id": "571c45b4",
   "metadata": {},
   "outputs": [],
   "source": [
    "login_btn = browser.find_element_by_id('login-btn')\n",
    "login_btn.click()"
   ]
  },
  {
   "cell_type": "code",
   "execution_count": 20,
   "id": "b437685a",
   "metadata": {},
   "outputs": [],
   "source": [
    "elem_tbody = browser.find_element_by_tag_name('tbody')"
   ]
  },
  {
   "cell_type": "code",
   "execution_count": 22,
   "id": "505b70dc",
   "metadata": {},
   "outputs": [
    {
     "data": {
      "text/plain": [
       "[<selenium.webdriver.remote.webelement.WebElement (session=\"b48708c246b70bcd549c7be0ca0b2f35\", element=\"d05f09c6-2543-44e3-a69f-0d6907657404\")>,\n",
       " <selenium.webdriver.remote.webelement.WebElement (session=\"b48708c246b70bcd549c7be0ca0b2f35\", element=\"08b8ba72-fa0b-4f3c-b433-ced9c3f9d53b\")>,\n",
       " <selenium.webdriver.remote.webelement.WebElement (session=\"b48708c246b70bcd549c7be0ca0b2f35\", element=\"c17a1e7b-2a3e-40f4-8cd3-53221b583c15\")>,\n",
       " <selenium.webdriver.remote.webelement.WebElement (session=\"b48708c246b70bcd549c7be0ca0b2f35\", element=\"ebde523b-f24a-423c-8f7f-28523151c500\")>,\n",
       " <selenium.webdriver.remote.webelement.WebElement (session=\"b48708c246b70bcd549c7be0ca0b2f35\", element=\"c6907144-5f87-4b1f-a8e1-70f0115f5399\")>]"
      ]
     },
     "execution_count": 22,
     "metadata": {},
     "output_type": "execute_result"
    }
   ],
   "source": [
    "elems_th = elem_tbody.find_elements_by_tag_name('th')\n",
    "elems_th"
   ]
  },
  {
   "cell_type": "code",
   "execution_count": 24,
   "id": "c9142006",
   "metadata": {},
   "outputs": [
    {
     "data": {
      "text/plain": [
       "'講師名'"
      ]
     },
     "execution_count": 24,
     "metadata": {},
     "output_type": "execute_result"
    }
   ],
   "source": [
    "elems_th[0].text"
   ]
  },
  {
   "cell_type": "code",
   "execution_count": 26,
   "id": "a303d3d1",
   "metadata": {},
   "outputs": [],
   "source": [
    "elem_td = browser.find_element_by_id('come_from')"
   ]
  },
  {
   "cell_type": "code",
   "execution_count": 27,
   "id": "23522624",
   "metadata": {},
   "outputs": [
    {
     "data": {
      "text/plain": [
       "'千葉県'"
      ]
     },
     "execution_count": 27,
     "metadata": {},
     "output_type": "execute_result"
    }
   ],
   "source": [
    "elem_td.text"
   ]
  },
  {
   "cell_type": "code",
   "execution_count": 38,
   "id": "6c4dcb85",
   "metadata": {},
   "outputs": [
    {
     "data": {
      "text/plain": [
       "5"
      ]
     },
     "execution_count": 38,
     "metadata": {},
     "output_type": "execute_result"
    }
   ],
   "source": [
    "elem_nav = browser.find_element_by_id('nav-mobile')\n",
    "elems_li = elem_nav.find_elements_by_tag_name('li')\n",
    "len(elems_li)"
   ]
  },
  {
   "cell_type": "code",
   "execution_count": 40,
   "id": "5f6c7207",
   "metadata": {},
   "outputs": [
    {
     "data": {
      "text/plain": [
       "'https://scraping-for-beginner.herokuapp.com/udemy'"
      ]
     },
     "execution_count": 40,
     "metadata": {},
     "output_type": "execute_result"
    }
   ],
   "source": [
    "elems_li[3].find_element_by_tag_name('a').get_attribute('href')"
   ]
  },
  {
   "cell_type": "code",
   "execution_count": 41,
   "id": "d74b1842",
   "metadata": {},
   "outputs": [
    {
     "data": {
      "text/plain": [
       "'今西 航平'"
      ]
     },
     "execution_count": 41,
     "metadata": {},
     "output_type": "execute_result"
    }
   ],
   "source": [
    "#css セレクタ\n",
    "browser.find_element_by_css_selector('#name').text"
   ]
  },
  {
   "cell_type": "code",
   "execution_count": 43,
   "id": "9f513051",
   "metadata": {},
   "outputs": [
    {
     "data": {
      "text/plain": [
       "'今西 航平'"
      ]
     },
     "execution_count": 43,
     "metadata": {},
     "output_type": "execute_result"
    }
   ],
   "source": [
    "# xPath\n",
    "browser.find_element_by_xpath('//*[@id=\"name\"]').text"
   ]
  },
  {
   "cell_type": "code",
   "execution_count": 44,
   "id": "f102640e",
   "metadata": {},
   "outputs": [],
   "source": [
    "browser.get('https://scraping-for-beginner.herokuapp.com/ranking/')"
   ]
  },
  {
   "cell_type": "code",
   "execution_count": 46,
   "id": "9231e101",
   "metadata": {},
   "outputs": [
    {
     "data": {
      "text/plain": [
       "7788"
      ]
     },
     "execution_count": 46,
     "metadata": {},
     "output_type": "execute_result"
    }
   ],
   "source": [
    "#browser.execute_script('window.scrollTo(0,300);')\n",
    "browser.execute_script('return document.body.scrollHeight')"
   ]
  },
  {
   "cell_type": "code",
   "execution_count": 49,
   "id": "6601b25f",
   "metadata": {},
   "outputs": [],
   "source": [
    "#ヘッドレスモードでの起動。裏側で起動する。\n",
    "browser.quit() # browserインスタンスを消し、ブラウサが閉じる"
   ]
  },
  {
   "cell_type": "code",
   "execution_count": 50,
   "id": "44c720d6",
   "metadata": {},
   "outputs": [],
   "source": [
    "from selenium.webdriver.chrome.options import Options"
   ]
  },
  {
   "cell_type": "code",
   "execution_count": 51,
   "id": "29f07389",
   "metadata": {},
   "outputs": [],
   "source": [
    "options = Options()\n",
    "options.add_argument('--headless')"
   ]
  },
  {
   "cell_type": "code",
   "execution_count": 52,
   "id": "9188ca05",
   "metadata": {},
   "outputs": [
    {
     "name": "stderr",
     "output_type": "stream",
     "text": [
      "\n",
      "\n",
      "====== WebDriver manager ======\n",
      "Current google-chrome version is 91.0.4472\n",
      "Get LATEST driver version for 91.0.4472\n",
      "Driver [/Users/matsuuratsubasa/.wdm/drivers/chromedriver/mac64/91.0.4472.101/chromedriver] found in cache\n"
     ]
    }
   ],
   "source": [
    "browser  = webdriver.Chrome(ChromeDriverManager().install(), options=options)"
   ]
  },
  {
   "cell_type": "code",
   "execution_count": 53,
   "id": "73288abc",
   "metadata": {},
   "outputs": [],
   "source": [
    "browser.quit() # browserインスタンスを消し、ブラウサが閉じる"
   ]
  },
  {
   "cell_type": "code",
   "execution_count": null,
   "id": "e73a88a2",
   "metadata": {},
   "outputs": [],
   "source": []
  }
 ],
 "metadata": {
  "kernelspec": {
   "display_name": "Python 3",
   "language": "python",
   "name": "python3"
  },
  "language_info": {
   "codemirror_mode": {
    "name": "ipython",
    "version": 3
   },
   "file_extension": ".py",
   "mimetype": "text/x-python",
   "name": "python",
   "nbconvert_exporter": "python",
   "pygments_lexer": "ipython3",
   "version": "3.7.7"
  }
 },
 "nbformat": 4,
 "nbformat_minor": 5
}

{
 "cells": [
  {
   "cell_type": "code",
   "execution_count": 1,
   "id": "242e0055",
   "metadata": {},
   "outputs": [],
   "source": [
    "import numpy as np\n",
    "import pandas as pd"
   ]
  },
  {
   "cell_type": "code",
   "execution_count": 3,
   "id": "4c1ea838",
   "metadata": {},
   "outputs": [],
   "source": [
    "from sklearn.datasets import load_breast_cancer"
   ]
  },
  {
   "cell_type": "code",
   "execution_count": 4,
   "id": "263c5d07",
   "metadata": {},
   "outputs": [],
   "source": [
    "dataset = load_breast_cancer()"
   ]
  },
  {
   "cell_type": "code",
   "execution_count": 7,
   "id": "63ec2979",
   "metadata": {},
   "outputs": [],
   "source": [
    "t = dataset.target\n",
    "x = dataset.data"
   ]
  },
  {
   "cell_type": "code",
   "execution_count": 8,
   "id": "89432510",
   "metadata": {},
   "outputs": [
    {
     "data": {
      "text/plain": [
       "((569,), (569, 30))"
      ]
     },
     "execution_count": 8,
     "metadata": {},
     "output_type": "execute_result"
    }
   ],
   "source": [
    "t.shape , x.shape"
   ]
  },
  {
   "cell_type": "code",
   "execution_count": 9,
   "id": "e3bf3f29",
   "metadata": {},
   "outputs": [],
   "source": [
    "from sklearn.model_selection import train_test_split"
   ]
  },
  {
   "cell_type": "code",
   "execution_count": 10,
   "id": "d5c4b27a",
   "metadata": {},
   "outputs": [],
   "source": [
    "# まずはテスト用データと検証用データへ分ける\n",
    "x_train_val , x_test, t_train_val , t_test = train_test_split(x, t , test_size = 0.2, random_state = 1)"
   ]
  },
  {
   "cell_type": "code",
   "execution_count": 12,
   "id": "cffcb938",
   "metadata": {},
   "outputs": [],
   "source": [
    "x_train , x_vak, t_train, t_val = train_test_split(x_train_val, t_train_val, test_size = 0.3, random_state=1)"
   ]
  },
  {
   "cell_type": "code",
   "execution_count": 14,
   "id": "2c82addd",
   "metadata": {},
   "outputs": [
    {
     "data": {
      "text/plain": [
       "((318, 30), (137, 30))"
      ]
     },
     "execution_count": 14,
     "metadata": {},
     "output_type": "execute_result"
    }
   ],
   "source": [
    "x_train.shape, x_vak.shape"
   ]
  },
  {
   "cell_type": "code",
   "execution_count": 15,
   "id": "965d49a9",
   "metadata": {},
   "outputs": [],
   "source": [
    "from sklearn.tree import DecisionTreeClassifier"
   ]
  },
  {
   "cell_type": "code",
   "execution_count": 23,
   "id": "6e90ef73",
   "metadata": {},
   "outputs": [],
   "source": [
    "dtree = DecisionTreeClassifier(max_depth = 10, min_samples_split=30, random_state = 0)"
   ]
  },
  {
   "cell_type": "code",
   "execution_count": 24,
   "id": "fce5cd03",
   "metadata": {},
   "outputs": [
    {
     "data": {
      "text/plain": [
       "DecisionTreeClassifier(class_weight=None, criterion='gini', max_depth=10,\n",
       "                       max_features=None, max_leaf_nodes=None,\n",
       "                       min_impurity_decrease=0.0, min_impurity_split=None,\n",
       "                       min_samples_leaf=1, min_samples_split=30,\n",
       "                       min_weight_fraction_leaf=0.0, presort=False,\n",
       "                       random_state=0, splitter='best')"
      ]
     },
     "execution_count": 24,
     "metadata": {},
     "output_type": "execute_result"
    }
   ],
   "source": [
    "dtree.fit(x_train, t_train)"
   ]
  },
  {
   "cell_type": "code",
   "execution_count": 25,
   "id": "8758f3b8",
   "metadata": {},
   "outputs": [
    {
     "name": "stdout",
     "output_type": "stream",
     "text": [
      "train_score : 0.9308176100628931\n",
      "train_score : 0.9562043795620438\n"
     ]
    }
   ],
   "source": [
    "print(f'train_score : {dtree.score(x_train, t_train)}')\n",
    "print(f'train_score : {dtree.score(x_vak, t_val)}')"
   ]
  },
  {
   "cell_type": "code",
   "execution_count": 26,
   "id": "810b5389",
   "metadata": {},
   "outputs": [
    {
     "name": "stdout",
     "output_type": "stream",
     "text": [
      "train_score : 0.9298245614035088\n"
     ]
    }
   ],
   "source": [
    "print(f'train_score : {dtree.score(x_test, t_test)}')\n"
   ]
  },
  {
   "cell_type": "code",
   "execution_count": 27,
   "id": "200a983b",
   "metadata": {},
   "outputs": [],
   "source": [
    "from sklearn.model_selection import GridSearchCV"
   ]
  },
  {
   "cell_type": "code",
   "execution_count": 28,
   "id": "62495c45",
   "metadata": {},
   "outputs": [],
   "source": [
    "estimator = DecisionTreeClassifier(random_state = 0)"
   ]
  },
  {
   "cell_type": "code",
   "execution_count": 34,
   "id": "88213617",
   "metadata": {},
   "outputs": [],
   "source": [
    "params_grid = [{\n",
    "    'max_depth' : [5,10, 15],\n",
    "    'min_samples_split' : [10, 12, 15],\n",
    "}]"
   ]
  },
  {
   "cell_type": "code",
   "execution_count": 35,
   "id": "4f192c34",
   "metadata": {},
   "outputs": [],
   "source": [
    "cv = 5"
   ]
  },
  {
   "cell_type": "code",
   "execution_count": 36,
   "id": "b55b4769",
   "metadata": {},
   "outputs": [],
   "source": [
    "tuned_model = GridSearchCV(estimator = estimator,\n",
    "                          param_grid =params_grid,\n",
    "                          cv = cv, return_train_score = False)"
   ]
  },
  {
   "cell_type": "code",
   "execution_count": 37,
   "id": "83fe6fd0",
   "metadata": {},
   "outputs": [
    {
     "data": {
      "text/plain": [
       "GridSearchCV(cv=5, error_score='raise-deprecating',\n",
       "             estimator=DecisionTreeClassifier(class_weight=None,\n",
       "                                              criterion='gini', max_depth=None,\n",
       "                                              max_features=None,\n",
       "                                              max_leaf_nodes=None,\n",
       "                                              min_impurity_decrease=0.0,\n",
       "                                              min_impurity_split=None,\n",
       "                                              min_samples_leaf=1,\n",
       "                                              min_samples_split=2,\n",
       "                                              min_weight_fraction_leaf=0.0,\n",
       "                                              presort=False, random_state=0,\n",
       "                                              splitter='best'),\n",
       "             iid='warn', n_jobs=None,\n",
       "             param_grid=[{'max_depth': [5, 10, 15],\n",
       "                          'min_samples_split': [10, 12, 15]}],\n",
       "             pre_dispatch='2*n_jobs', refit=True, return_train_score=False,\n",
       "             scoring=None, verbose=0)"
      ]
     },
     "execution_count": 37,
     "metadata": {},
     "output_type": "execute_result"
    }
   ],
   "source": [
    "tuned_model.fit(x_train_val, t_train_val)"
   ]
  },
  {
   "cell_type": "code",
   "execution_count": 38,
   "id": "17aea88b",
   "metadata": {},
   "outputs": [
    {
     "data": {
      "text/html": [
       "<div>\n",
       "<style scoped>\n",
       "    .dataframe tbody tr th:only-of-type {\n",
       "        vertical-align: middle;\n",
       "    }\n",
       "\n",
       "    .dataframe tbody tr th {\n",
       "        vertical-align: top;\n",
       "    }\n",
       "\n",
       "    .dataframe thead th {\n",
       "        text-align: right;\n",
       "    }\n",
       "</style>\n",
       "<table border=\"1\" class=\"dataframe\">\n",
       "  <thead>\n",
       "    <tr style=\"text-align: right;\">\n",
       "      <th></th>\n",
       "      <th>0</th>\n",
       "      <th>1</th>\n",
       "      <th>2</th>\n",
       "      <th>3</th>\n",
       "      <th>4</th>\n",
       "      <th>5</th>\n",
       "      <th>6</th>\n",
       "      <th>7</th>\n",
       "      <th>8</th>\n",
       "    </tr>\n",
       "  </thead>\n",
       "  <tbody>\n",
       "    <tr>\n",
       "      <th>mean_fit_time</th>\n",
       "      <td>0.00627141</td>\n",
       "      <td>0.00452771</td>\n",
       "      <td>0.00352473</td>\n",
       "      <td>0.00303569</td>\n",
       "      <td>0.00298758</td>\n",
       "      <td>0.00279312</td>\n",
       "      <td>0.0028266</td>\n",
       "      <td>0.0027926</td>\n",
       "      <td>0.00277739</td>\n",
       "    </tr>\n",
       "    <tr>\n",
       "      <th>std_fit_time</th>\n",
       "      <td>0.00153626</td>\n",
       "      <td>0.000407096</td>\n",
       "      <td>0.000287507</td>\n",
       "      <td>0.000304199</td>\n",
       "      <td>0.000165263</td>\n",
       "      <td>0.000135238</td>\n",
       "      <td>0.000148112</td>\n",
       "      <td>0.00014881</td>\n",
       "      <td>0.000131333</td>\n",
       "    </tr>\n",
       "    <tr>\n",
       "      <th>mean_score_time</th>\n",
       "      <td>0.000678825</td>\n",
       "      <td>0.000251675</td>\n",
       "      <td>0.00021863</td>\n",
       "      <td>0.000171375</td>\n",
       "      <td>0.000182009</td>\n",
       "      <td>0.000139093</td>\n",
       "      <td>0.000131798</td>\n",
       "      <td>0.000128794</td>\n",
       "      <td>0.00012641</td>\n",
       "    </tr>\n",
       "    <tr>\n",
       "      <th>std_score_time</th>\n",
       "      <td>0.000295128</td>\n",
       "      <td>6.73203e-05</td>\n",
       "      <td>2.97456e-05</td>\n",
       "      <td>1.99152e-05</td>\n",
       "      <td>3.98653e-05</td>\n",
       "      <td>1.80976e-05</td>\n",
       "      <td>3.67938e-06</td>\n",
       "      <td>1.64076e-06</td>\n",
       "      <td>1.91568e-06</td>\n",
       "    </tr>\n",
       "    <tr>\n",
       "      <th>param_max_depth</th>\n",
       "      <td>5</td>\n",
       "      <td>5</td>\n",
       "      <td>5</td>\n",
       "      <td>10</td>\n",
       "      <td>10</td>\n",
       "      <td>10</td>\n",
       "      <td>15</td>\n",
       "      <td>15</td>\n",
       "      <td>15</td>\n",
       "    </tr>\n",
       "    <tr>\n",
       "      <th>param_min_samples_split</th>\n",
       "      <td>10</td>\n",
       "      <td>12</td>\n",
       "      <td>15</td>\n",
       "      <td>10</td>\n",
       "      <td>12</td>\n",
       "      <td>15</td>\n",
       "      <td>10</td>\n",
       "      <td>12</td>\n",
       "      <td>15</td>\n",
       "    </tr>\n",
       "    <tr>\n",
       "      <th>params</th>\n",
       "      <td>{'max_depth': 5, 'min_samples_split': 10}</td>\n",
       "      <td>{'max_depth': 5, 'min_samples_split': 12}</td>\n",
       "      <td>{'max_depth': 5, 'min_samples_split': 15}</td>\n",
       "      <td>{'max_depth': 10, 'min_samples_split': 10}</td>\n",
       "      <td>{'max_depth': 10, 'min_samples_split': 12}</td>\n",
       "      <td>{'max_depth': 10, 'min_samples_split': 15}</td>\n",
       "      <td>{'max_depth': 15, 'min_samples_split': 10}</td>\n",
       "      <td>{'max_depth': 15, 'min_samples_split': 12}</td>\n",
       "      <td>{'max_depth': 15, 'min_samples_split': 15}</td>\n",
       "    </tr>\n",
       "    <tr>\n",
       "      <th>split0_test_score</th>\n",
       "      <td>0.967033</td>\n",
       "      <td>0.923077</td>\n",
       "      <td>0.912088</td>\n",
       "      <td>0.967033</td>\n",
       "      <td>0.923077</td>\n",
       "      <td>0.912088</td>\n",
       "      <td>0.967033</td>\n",
       "      <td>0.923077</td>\n",
       "      <td>0.912088</td>\n",
       "    </tr>\n",
       "    <tr>\n",
       "      <th>split1_test_score</th>\n",
       "      <td>0.912088</td>\n",
       "      <td>0.901099</td>\n",
       "      <td>0.901099</td>\n",
       "      <td>0.912088</td>\n",
       "      <td>0.901099</td>\n",
       "      <td>0.901099</td>\n",
       "      <td>0.912088</td>\n",
       "      <td>0.901099</td>\n",
       "      <td>0.901099</td>\n",
       "    </tr>\n",
       "    <tr>\n",
       "      <th>split2_test_score</th>\n",
       "      <td>0.923077</td>\n",
       "      <td>0.934066</td>\n",
       "      <td>0.934066</td>\n",
       "      <td>0.923077</td>\n",
       "      <td>0.934066</td>\n",
       "      <td>0.934066</td>\n",
       "      <td>0.923077</td>\n",
       "      <td>0.934066</td>\n",
       "      <td>0.934066</td>\n",
       "    </tr>\n",
       "    <tr>\n",
       "      <th>split3_test_score</th>\n",
       "      <td>0.956044</td>\n",
       "      <td>0.956044</td>\n",
       "      <td>0.945055</td>\n",
       "      <td>0.956044</td>\n",
       "      <td>0.956044</td>\n",
       "      <td>0.945055</td>\n",
       "      <td>0.956044</td>\n",
       "      <td>0.956044</td>\n",
       "      <td>0.945055</td>\n",
       "    </tr>\n",
       "    <tr>\n",
       "      <th>split4_test_score</th>\n",
       "      <td>0.967033</td>\n",
       "      <td>0.967033</td>\n",
       "      <td>0.934066</td>\n",
       "      <td>0.967033</td>\n",
       "      <td>0.967033</td>\n",
       "      <td>0.934066</td>\n",
       "      <td>0.967033</td>\n",
       "      <td>0.967033</td>\n",
       "      <td>0.934066</td>\n",
       "    </tr>\n",
       "    <tr>\n",
       "      <th>mean_test_score</th>\n",
       "      <td>0.945055</td>\n",
       "      <td>0.936264</td>\n",
       "      <td>0.925275</td>\n",
       "      <td>0.945055</td>\n",
       "      <td>0.936264</td>\n",
       "      <td>0.925275</td>\n",
       "      <td>0.945055</td>\n",
       "      <td>0.936264</td>\n",
       "      <td>0.925275</td>\n",
       "    </tr>\n",
       "    <tr>\n",
       "      <th>std_test_score</th>\n",
       "      <td>0.0230507</td>\n",
       "      <td>0.0234661</td>\n",
       "      <td>0.0161505</td>\n",
       "      <td>0.0230507</td>\n",
       "      <td>0.0234661</td>\n",
       "      <td>0.0161505</td>\n",
       "      <td>0.0230507</td>\n",
       "      <td>0.0234661</td>\n",
       "      <td>0.0161505</td>\n",
       "    </tr>\n",
       "    <tr>\n",
       "      <th>rank_test_score</th>\n",
       "      <td>1</td>\n",
       "      <td>4</td>\n",
       "      <td>7</td>\n",
       "      <td>1</td>\n",
       "      <td>4</td>\n",
       "      <td>7</td>\n",
       "      <td>1</td>\n",
       "      <td>4</td>\n",
       "      <td>7</td>\n",
       "    </tr>\n",
       "  </tbody>\n",
       "</table>\n",
       "</div>"
      ],
      "text/plain": [
       "                                                                 0  \\\n",
       "mean_fit_time                                           0.00627141   \n",
       "std_fit_time                                            0.00153626   \n",
       "mean_score_time                                        0.000678825   \n",
       "std_score_time                                         0.000295128   \n",
       "param_max_depth                                                  5   \n",
       "param_min_samples_split                                         10   \n",
       "params                   {'max_depth': 5, 'min_samples_split': 10}   \n",
       "split0_test_score                                         0.967033   \n",
       "split1_test_score                                         0.912088   \n",
       "split2_test_score                                         0.923077   \n",
       "split3_test_score                                         0.956044   \n",
       "split4_test_score                                         0.967033   \n",
       "mean_test_score                                           0.945055   \n",
       "std_test_score                                           0.0230507   \n",
       "rank_test_score                                                  1   \n",
       "\n",
       "                                                                 1  \\\n",
       "mean_fit_time                                           0.00452771   \n",
       "std_fit_time                                           0.000407096   \n",
       "mean_score_time                                        0.000251675   \n",
       "std_score_time                                         6.73203e-05   \n",
       "param_max_depth                                                  5   \n",
       "param_min_samples_split                                         12   \n",
       "params                   {'max_depth': 5, 'min_samples_split': 12}   \n",
       "split0_test_score                                         0.923077   \n",
       "split1_test_score                                         0.901099   \n",
       "split2_test_score                                         0.934066   \n",
       "split3_test_score                                         0.956044   \n",
       "split4_test_score                                         0.967033   \n",
       "mean_test_score                                           0.936264   \n",
       "std_test_score                                           0.0234661   \n",
       "rank_test_score                                                  4   \n",
       "\n",
       "                                                                 2  \\\n",
       "mean_fit_time                                           0.00352473   \n",
       "std_fit_time                                           0.000287507   \n",
       "mean_score_time                                         0.00021863   \n",
       "std_score_time                                         2.97456e-05   \n",
       "param_max_depth                                                  5   \n",
       "param_min_samples_split                                         15   \n",
       "params                   {'max_depth': 5, 'min_samples_split': 15}   \n",
       "split0_test_score                                         0.912088   \n",
       "split1_test_score                                         0.901099   \n",
       "split2_test_score                                         0.934066   \n",
       "split3_test_score                                         0.945055   \n",
       "split4_test_score                                         0.934066   \n",
       "mean_test_score                                           0.925275   \n",
       "std_test_score                                           0.0161505   \n",
       "rank_test_score                                                  7   \n",
       "\n",
       "                                                                  3  \\\n",
       "mean_fit_time                                            0.00303569   \n",
       "std_fit_time                                            0.000304199   \n",
       "mean_score_time                                         0.000171375   \n",
       "std_score_time                                          1.99152e-05   \n",
       "param_max_depth                                                  10   \n",
       "param_min_samples_split                                          10   \n",
       "params                   {'max_depth': 10, 'min_samples_split': 10}   \n",
       "split0_test_score                                          0.967033   \n",
       "split1_test_score                                          0.912088   \n",
       "split2_test_score                                          0.923077   \n",
       "split3_test_score                                          0.956044   \n",
       "split4_test_score                                          0.967033   \n",
       "mean_test_score                                            0.945055   \n",
       "std_test_score                                            0.0230507   \n",
       "rank_test_score                                                   1   \n",
       "\n",
       "                                                                  4  \\\n",
       "mean_fit_time                                            0.00298758   \n",
       "std_fit_time                                            0.000165263   \n",
       "mean_score_time                                         0.000182009   \n",
       "std_score_time                                          3.98653e-05   \n",
       "param_max_depth                                                  10   \n",
       "param_min_samples_split                                          12   \n",
       "params                   {'max_depth': 10, 'min_samples_split': 12}   \n",
       "split0_test_score                                          0.923077   \n",
       "split1_test_score                                          0.901099   \n",
       "split2_test_score                                          0.934066   \n",
       "split3_test_score                                          0.956044   \n",
       "split4_test_score                                          0.967033   \n",
       "mean_test_score                                            0.936264   \n",
       "std_test_score                                            0.0234661   \n",
       "rank_test_score                                                   4   \n",
       "\n",
       "                                                                  5  \\\n",
       "mean_fit_time                                            0.00279312   \n",
       "std_fit_time                                            0.000135238   \n",
       "mean_score_time                                         0.000139093   \n",
       "std_score_time                                          1.80976e-05   \n",
       "param_max_depth                                                  10   \n",
       "param_min_samples_split                                          15   \n",
       "params                   {'max_depth': 10, 'min_samples_split': 15}   \n",
       "split0_test_score                                          0.912088   \n",
       "split1_test_score                                          0.901099   \n",
       "split2_test_score                                          0.934066   \n",
       "split3_test_score                                          0.945055   \n",
       "split4_test_score                                          0.934066   \n",
       "mean_test_score                                            0.925275   \n",
       "std_test_score                                            0.0161505   \n",
       "rank_test_score                                                   7   \n",
       "\n",
       "                                                                  6  \\\n",
       "mean_fit_time                                             0.0028266   \n",
       "std_fit_time                                            0.000148112   \n",
       "mean_score_time                                         0.000131798   \n",
       "std_score_time                                          3.67938e-06   \n",
       "param_max_depth                                                  15   \n",
       "param_min_samples_split                                          10   \n",
       "params                   {'max_depth': 15, 'min_samples_split': 10}   \n",
       "split0_test_score                                          0.967033   \n",
       "split1_test_score                                          0.912088   \n",
       "split2_test_score                                          0.923077   \n",
       "split3_test_score                                          0.956044   \n",
       "split4_test_score                                          0.967033   \n",
       "mean_test_score                                            0.945055   \n",
       "std_test_score                                            0.0230507   \n",
       "rank_test_score                                                   1   \n",
       "\n",
       "                                                                  7  \\\n",
       "mean_fit_time                                             0.0027926   \n",
       "std_fit_time                                             0.00014881   \n",
       "mean_score_time                                         0.000128794   \n",
       "std_score_time                                          1.64076e-06   \n",
       "param_max_depth                                                  15   \n",
       "param_min_samples_split                                          12   \n",
       "params                   {'max_depth': 15, 'min_samples_split': 12}   \n",
       "split0_test_score                                          0.923077   \n",
       "split1_test_score                                          0.901099   \n",
       "split2_test_score                                          0.934066   \n",
       "split3_test_score                                          0.956044   \n",
       "split4_test_score                                          0.967033   \n",
       "mean_test_score                                            0.936264   \n",
       "std_test_score                                            0.0234661   \n",
       "rank_test_score                                                   4   \n",
       "\n",
       "                                                                  8  \n",
       "mean_fit_time                                            0.00277739  \n",
       "std_fit_time                                            0.000131333  \n",
       "mean_score_time                                          0.00012641  \n",
       "std_score_time                                          1.91568e-06  \n",
       "param_max_depth                                                  15  \n",
       "param_min_samples_split                                          15  \n",
       "params                   {'max_depth': 15, 'min_samples_split': 15}  \n",
       "split0_test_score                                          0.912088  \n",
       "split1_test_score                                          0.901099  \n",
       "split2_test_score                                          0.934066  \n",
       "split3_test_score                                          0.945055  \n",
       "split4_test_score                                          0.934066  \n",
       "mean_test_score                                            0.925275  \n",
       "std_test_score                                            0.0161505  \n",
       "rank_test_score                                                   7  "
      ]
     },
     "execution_count": 38,
     "metadata": {},
     "output_type": "execute_result"
    }
   ],
   "source": [
    "pd.DataFrame(tuned_model.cv_results_).T"
   ]
  },
  {
   "cell_type": "code",
   "execution_count": 39,
   "id": "9a6dac3f",
   "metadata": {},
   "outputs": [
    {
     "data": {
      "text/plain": [
       "{'max_depth': 5, 'min_samples_split': 10}"
      ]
     },
     "execution_count": 39,
     "metadata": {},
     "output_type": "execute_result"
    }
   ],
   "source": [
    "tuned_model.best_params_"
   ]
  },
  {
   "cell_type": "code",
   "execution_count": 40,
   "id": "b70775d3",
   "metadata": {},
   "outputs": [],
   "source": [
    "best_model = tuned_model.best_estimator_"
   ]
  },
  {
   "cell_type": "code",
   "execution_count": 42,
   "id": "ba68e076",
   "metadata": {},
   "outputs": [
    {
     "name": "stdout",
     "output_type": "stream",
     "text": [
      "0.9934065934065934\n",
      "0.956140350877193\n"
     ]
    }
   ],
   "source": [
    "print(best_model.score(x_train_val, t_train_val))\n",
    "print(best_model.score(x_test, t_test))"
   ]
  },
  {
   "cell_type": "code",
   "execution_count": null,
   "id": "7d483638",
   "metadata": {},
   "outputs": [],
   "source": []
  }
 ],
 "metadata": {
  "kernelspec": {
   "display_name": "Python 3",
   "language": "python",
   "name": "python3"
  },
  "language_info": {
   "codemirror_mode": {
    "name": "ipython",
    "version": 3
   },
   "file_extension": ".py",
   "mimetype": "text/x-python",
   "name": "python",
   "nbconvert_exporter": "python",
   "pygments_lexer": "ipython3",
   "version": "3.7.7"
  }
 },
 "nbformat": 4,
 "nbformat_minor": 5
}
